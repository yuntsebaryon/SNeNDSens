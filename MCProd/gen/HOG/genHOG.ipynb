{
 "cells": [
  {
   "cell_type": "markdown",
   "id": "a074f81a",
   "metadata": {},
   "source": [
    "# Generate Hot Off Gas Background (511-keV gammas)\n",
    "\n",
    "Copied from https://github.com/yuntsebaryon/SimpleCosmics/blob/main/HOG/genHOG.ipynb, but change to create hepevt files\n",
    "\n",
    "TODO: Check with Rex about the (x, y, z, t) for the HOG gammas and rate; "
   ]
  },
  {
   "cell_type": "code",
   "execution_count": 1,
   "id": "80668910",
   "metadata": {},
   "outputs": [],
   "source": [
    "import numpy as np\n",
    "import matplotlib.pyplot as plt"
   ]
  },
  {
   "cell_type": "code",
   "execution_count": null,
   "id": "45483886-f8ad-4cc7-91c6-33149f4f1452",
   "metadata": {},
   "outputs": [],
   "source": [
    "import os\n",
    "outdir = '/Users/yuntse/data/coherent/SNeNDSens/gen/HOG'\n",
    "\n",
    "if os.path.exists(outdir):\n",
    "    raise FileExistsError(f\"Directory '{outdir}' already exists!\")\n",
    "else:\n",
    "    os.makedirs(outdir)"
   ]
  },
  {
   "cell_type": "markdown",
   "id": "9eb87bc3-3f13-4ab9-b75d-76aad38afd05",
   "metadata": {},
   "source": [
    "## Generate the location and time: xyzt"
   ]
  },
  {
   "cell_type": "code",
   "execution_count": null,
   "id": "e80c9ce3-a77f-47d7-8c96-fbeaeca69880",
   "metadata": {},
   "outputs": [],
   "source": [
    "# location and time in [cm, ns]\n",
    "def assignXYZT(xlim, ylim, zlim, tlow, thigh, nSamples):\n",
    "    xyzt = np.array([ [ x, y, z, t ] \n",
    "                      for x, y, z, t in zip(np.random.uniform(-xlim, xlim, nSamples), \n",
    "                                            np.random.uniform(-ylim, ylim, nSamples),\n",
    "                                            np.random.uniform(-zlim, zlim, nSamples),\n",
    "                                            np.random.uniform(tlow, thigh, nSamples) ])\n",
    "    return xyzt"
   ]
  },
  {
   "cell_type": "code",
   "execution_count": 2,
   "id": "349ae7b4",
   "metadata": {},
   "outputs": [],
   "source": [
    "gPdg = 22\n",
    "# unit: GeV\n",
    "gMass = 0\n",
    "gEnergy = 511e-6"
   ]
  },
  {
   "cell_type": "code",
   "execution_count": null,
   "id": "d26c59ef-b6aa-4a83-887f-535984b8d452",
   "metadata": {},
   "outputs": [],
   "source": [
    "xlim =\n",
    "ylim =\n",
    "zlim =\n",
    "tlow =\n",
    "thigh ="
   ]
  },
  {
   "cell_type": "code",
   "execution_count": 3,
   "id": "ba971520",
   "metadata": {},
   "outputs": [
    {
     "data": {
      "text/plain": [
       "10"
      ]
     },
     "execution_count": 3,
     "metadata": {},
     "output_type": "execute_result"
    }
   ],
   "source": [
    "nEvents = 50000\n",
    "nGammaPerEvent = 73\n",
    "nParticlePerVtx = 1\n",
    "nEventPerFile = 5000\n",
    "nFiles = int(nEvents/nEventPerFile)\n",
    "nFiles"
   ]
  },
  {
   "cell_type": "code",
   "execution_count": 5,
   "id": "e7e21ec7",
   "metadata": {},
   "outputs": [
    {
     "name": "stdout",
     "output_type": "stream",
     "text": [
      "saving event 4999 in file 0....\n",
      "saving event 9999 in file 1....\n",
      "saving event 14999 in file 2....\n",
      "saving event 19999 in file 3....\n",
      "saving event 24999 in file 4....\n",
      "saving event 29999 in file 5....\n",
      "saving event 34999 in file 6....\n",
      "saving event 39999 in file 7....\n",
      "saving event 44999 in file 8....\n",
      "saving event 49999 in file 9....\n"
     ]
    }
   ],
   "source": [
    "for iFile in range(nFiles):\n",
    "    outFile = f'{outdir}/HOG_{iFile:04d}.hepevt'\n",
    "\n",
    "    with open( outFile, 'w') as f:\n",
    "        for iEvtPerFile in range(nEventPerFile):\n",
    "            iEvt = iFile*nEventPerFile + iEvtPerFile\n",
    "\n",
    "            # assign xyzt\n",
    "            xyzt = assignXYZT(xlim, ylim, zlim, tlow, thigh, nGammaPerEvent)\n",
    "            \n",
    "            for iGamma in range( nGammaPerEvent ):\n",
    "                f.write( f'{iEvt} {iGamma} {nParticlePerVtx}\\n')\n",
    "\n",
    "                # ISTHEP IDHEP JMOHEP1 JMOHEP2 JDAHEP1 JDAHEP2 PHEP1 PHEP2 PHEP3 PHEP4 PHEP5 VHEP1 VHEP2 VHEP3 VHEP4\n",
    "                # final-state particle\n",
    "                ISTHEP = 1\n",
    "                IDHEP = gPdg\n",
    "                # The JMOHEP1, JMOHEP2, JDAHEP1, and JDAHEP2 entries record the indices (between 1 and NHEP, inclusive) \n",
    "                # of particles in the event record that correspond to the first mother, second mother, first daughter, \n",
    "                # and last daughter of the current particle, respectively. \n",
    "                JMOHEP1 = 0\n",
    "                JMOHEP2 = 0\n",
    "                JDAHEP1 = 0\n",
    "                JDAHEP2 = 0\n",
    "                \n",
    "                # Calculate the 4-momentum\n",
    "                E = gEnergy\n",
    "                p = gEnergy\n",
    "                px = 0.\n",
    "                py = -gEnergy\n",
    "                pz = 0.\n",
    "\n",
    "                # Fill momentum\n",
    "            \n",
    "                PHEP1 = px\n",
    "                PHEP2 = py\n",
    "                PHEP3 = pz\n",
    "                PHEP4 = E\n",
    "                PHEP5 = gMass\n",
    "                VHEP1 = xyzt[iGamma][0]\n",
    "                VHEP2 = xyzt[iGamma][1]\n",
    "                VHEP3 = xyzt[iGamma][2]\n",
    "                VHEP4 = xyzt[iGamma][3]\n",
    "                f.write( f'{ISTHEP} {IDHEP} {JMOHEP1} {JMOHEP2} {JDAHEP1} {JDAHEP2} {PHEP1} {PHEP2} {PHEP3} {PHEP4} {PHEP5} {VHEP1} {VHEP2} {VHEP3} {VHEP4}\\n')\n",
    "            "
   ]
  },
  {
   "cell_type": "code",
   "execution_count": null,
   "id": "94f56c04",
   "metadata": {},
   "outputs": [],
   "source": []
  }
 ],
 "metadata": {
  "kernelspec": {
   "display_name": "Python 3 (ipykernel)",
   "language": "python",
   "name": "python3"
  },
  "language_info": {
   "codemirror_mode": {
    "name": "ipython",
    "version": 3
   },
   "file_extension": ".py",
   "mimetype": "text/x-python",
   "name": "python",
   "nbconvert_exporter": "python",
   "pygments_lexer": "ipython3",
   "version": "3.12.7"
  }
 },
 "nbformat": 4,
 "nbformat_minor": 5
}
