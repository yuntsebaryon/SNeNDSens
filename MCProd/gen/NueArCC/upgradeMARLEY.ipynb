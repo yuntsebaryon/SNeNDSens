{
 "cells": [
  {
   "cell_type": "markdown",
   "id": "a3269e41-65d6-4cfa-b029-5f15cf126a1d",
   "metadata": {},
   "source": [
    "# Upgrade MARLEY\n",
    "\n",
    "Add vertex id, x, y, z, t to the MARLEY events.  The time distribution is taken from the COHERENT SNS trace."
   ]
  },
  {
   "cell_type": "code",
   "execution_count": 1,
   "id": "729fb49a-7a66-4336-a93f-79bf99ffc8f0",
   "metadata": {},
   "outputs": [],
   "source": [
    "def readHepevt(filename, EvtNo):\n",
    "    events = []\n",
    "    with open(filename, 'r') as f:\n",
    "        while True:\n",
    "            header = f.readline()\n",
    "            if not header:\n",
    "                break  # End of file\n",
    "            parts = header.strip().split()\n",
    "            if len(parts) < 2:\n",
    "                continue\n",
    "            n_particles = int(parts[1])\n",
    "            event_id = EvtNo\n",
    "\n",
    "            particles = []\n",
    "            for _ in range(n_particles):\n",
    "                line = f.readline()\n",
    "                data = line.strip().split()\n",
    "                if len(data) < 15:\n",
    "                    continue\n",
    "                particle = {\n",
    "                    \"ISTHEP\": int(data[0]),\n",
    "                    \"IDHEP\": int(data[1]),\n",
    "                    \"JMOHEP1\": int(data[2]),\n",
    "                    \"JMOHEP2\": int(data[3]),\n",
    "                    \"JDAHEP1\": int(data[4]),\n",
    "                    \"JDAHEP2\": int(data[5]),\n",
    "                    \"PHEP1\": float(data[6]),\n",
    "                    \"PHEP2\": float(data[7]),\n",
    "                    \"PHEP3\": float(data[8]),\n",
    "                    \"PHEP4\": float(data[9]),\n",
    "                    \"PHEP5\": float(data[10]),\n",
    "                    \"VHEP1\": float(data[11]),\n",
    "                    \"VHEP2\": float(data[12]),\n",
    "                    \"VHEP3\": float(data[13]),\n",
    "                    \"VHEP4\": float(data[14]),\n",
    "                }\n",
    "                particles.append(particle)\n",
    "\n",
    "            events.append((event_id, particles))\n",
    "            EvtNo += 1\n",
    "    return events"
   ]
  },
  {
   "cell_type": "code",
   "execution_count": 2,
   "id": "4a388609-9a97-48cb-8a7b-c6f3fea5b612",
   "metadata": {},
   "outputs": [],
   "source": [
    "def assignXYZT(events, x, y ,z, t, firstEvtNo):\n",
    "    lengths = [ len(events), len(x), len(y), len(z), len(t) ]\n",
    "    if len(set(lengths)) != 1:\n",
    "        raise ValueError( f'Array lengths are not identical!')\n",
    "        \n",
    "    for event_id, particles in events:\n",
    "        ievt = event_id - firstEvtNo\n",
    "        for p in particles:\n",
    "            p['VHEP1'] = x[ievt]\n",
    "            p['VHEP2'] = y[ievt]\n",
    "            p['VHEP3'] = z[ievt]\n",
    "            p['VHEP4'] = t[ievt]\n",
    "    return events"
   ]
  },
  {
   "cell_type": "code",
   "execution_count": 3,
   "id": "0b68e15a-782f-4e97-8659-39a59680ac20",
   "metadata": {},
   "outputs": [],
   "source": [
    "def writeHepevt(events, filename):\n",
    "    # only supports the events with exactly one vertex\n",
    "    vertex_id = 0\n",
    "    with open(filename, 'w') as f:\n",
    "        for event_id, particles in events:\n",
    "            f.write(f'{event_id} {vertex_id} {len(particles)}\\n')\n",
    "            for p in particles:\n",
    "                f.write(f\"{p['ISTHEP']} {p['IDHEP']} {p['JMOHEP1']} {p['JMOHEP2']} {p['JDAHEP1']} {p['JDAHEP2']} \"\n",
    "                        f\"{p['PHEP1']:.6f} {p['PHEP2']:.6f} {p['PHEP3']:.6f} {p['PHEP4']:.6f} {p['PHEP5']:.6f} \"\n",
    "                        f\"{p['VHEP1']:.6f} {p['VHEP2']:.6f} {p['VHEP3']:.6f} {p['VHEP4']}\\n\")\n"
   ]
  },
  {
   "cell_type": "code",
   "execution_count": 4,
   "id": "cc6334ee-09c7-4e8f-bdeb-c65b27e25d7d",
   "metadata": {},
   "outputs": [],
   "source": [
    "def xyzInBox(xmin, xmax, ymin, ymax, zmin, zmax, n):\n",
    "    rng = np.random.default_rng()\n",
    "    x = rng.uniform(xmin, xmax, n)\n",
    "    y = rng.uniform(ymin, ymax, n)\n",
    "    z = rng.uniform(zmin, zmax, n)\n",
    "    return x, y, z"
   ]
  },
  {
   "cell_type": "code",
   "execution_count": 5,
   "id": "9b1ebfec-0e23-4ea6-b508-34e982f5b7fe",
   "metadata": {},
   "outputs": [],
   "source": [
    "def xyzDirt( r, zmin, zmax, xIn, yIn, zIn, n):\n",
    "    xlist = []\n",
    "    ylist = []\n",
    "    zlist = []\n",
    "\n",
    "    while len(xlist) < n:\n",
    "        # Generate in batches (e.g., 2×n to improve efficiency)\n",
    "        batch_size = n * 2\n",
    "        x = np.random.uniform(-r, r, batch_size)\n",
    "        y = np.random.uniform(-r, r, batch_size)\n",
    "        z = np.random.uniform(zmin, zmax, batch_size)\n",
    "        r = np.sqrt(x**2 + y**2)\n",
    "\n",
    "        # Apply geometric cut\n",
    "        mask = (r <= 46.) & ~((np.abs(x) < xIn) & (np.abs(y) < yIn) & (np.abs(z) < zIn))\n",
    "\n",
    "        # Keep only passing events\n",
    "        x_valid = x[mask]\n",
    "        y_valid = y[mask]\n",
    "        z_valid = z[mask]\n",
    "\n",
    "        # Append valid values\n",
    "        xlist.extend(x_valid.tolist())\n",
    "        ylist.extend(y_valid.tolist())\n",
    "        zlist.extend(z_valid.tolist())\n",
    "\n",
    "    # Trim to exactly n entries\n",
    "    vtxx = np.array(xlist[:n])\n",
    "    vtxy = np.array(ylist[:n])\n",
    "    vtxz = np.array(zlist[:n])\n",
    "\n",
    "    return vtxx, vtxy, vtxz\n"
   ]
  },
  {
   "cell_type": "code",
   "execution_count": 6,
   "id": "73fa74ef",
   "metadata": {},
   "outputs": [],
   "source": [
    "def getNSamples(xmin, xmax, N):\n",
    "    return rng.uniform(xmin, xmax, N)"
   ]
  },
  {
   "cell_type": "code",
   "execution_count": 7,
   "id": "02f64d17",
   "metadata": {},
   "outputs": [],
   "source": [
    "def isAccepted(n, vPDF, maxPDF):\n",
    "    return rng.uniform(0., maxPDF, n) < vPDF"
   ]
  },
  {
   "cell_type": "code",
   "execution_count": 8,
   "id": "a83b474c",
   "metadata": {},
   "outputs": [],
   "source": [
    "def rejectSampling(PDF, tmin, tmax, nSamples):\n",
    "    outSamples = getNSamples(tmin, tmax, nSamples)\n",
    "    outSampleBins = np.floor(outSamples/10).astype(int)\n",
    "    outPDF = PDF[outSampleBins]\n",
    "    maxPDF = PDF.max()\n",
    "\n",
    "    mask = isAccepted(len(outSamples), outPDF, maxPDF)\n",
    "    reject, = np.where(~mask)\n",
    "\n",
    "    while reject.size > 0:\n",
    "        fill = getNSamples(tmin, tmax, reject.size)\n",
    "        fillBins = np.floor(fill/10).astype(int)\n",
    "        \n",
    "        fillPDF = PDF[fillBins]\n",
    "        mask = isAccepted(len(fill), fillPDF, maxPDF)\n",
    "        outSamples[reject[mask]] = fill[mask]\n",
    "        reject = reject[~mask]\n",
    "\n",
    "    return outSamples"
   ]
  },
  {
   "cell_type": "markdown",
   "id": "da6a77f4",
   "metadata": {},
   "source": [
    "## Signal\n",
    "\n",
    "### Generation"
   ]
  },
  {
   "cell_type": "code",
   "execution_count": 9,
   "id": "8cca42a4-482e-411b-8c1a-951d2b62972c",
   "metadata": {},
   "outputs": [],
   "source": [
    "import numpy as np"
   ]
  },
  {
   "cell_type": "code",
   "execution_count": 10,
   "id": "0ee93c2a-fdea-4bbd-a13a-a370a611eed9",
   "metadata": {},
   "outputs": [],
   "source": [
    "infile = '/Users/yuntse/data/coherent/SNeNDSens/gen/NueArCC/marley/nueArCC_sns_0000.hepevt'\n",
    "outfile = '/Users/yuntse/data/coherent/SNeNDSens/gen/NueArCC/nueArCC_sns_0000.hepevt'\n",
    "\n",
    "xlim = 25\n",
    "ylim = 20\n",
    "zlim = 25\n",
    "nEvents = 10000\n",
    "firstEvtNo = 0"
   ]
  },
  {
   "cell_type": "code",
   "execution_count": 11,
   "id": "4bfdd909",
   "metadata": {},
   "outputs": [
    {
     "data": {
      "text/plain": [
       "3.9597807126519453"
      ]
     },
     "execution_count": 11,
     "metadata": {},
     "output_type": "execute_result"
    }
   ],
   "source": [
    "nuTime = np.load('../../../SNS/DelayedNeutrinosPer10ns.npy')\n",
    "nuTime.max()"
   ]
  },
  {
   "cell_type": "code",
   "execution_count": 12,
   "id": "66ae9c96",
   "metadata": {},
   "outputs": [
    {
     "data": {
      "text/plain": [
       "1500"
      ]
     },
     "execution_count": 12,
     "metadata": {},
     "output_type": "execute_result"
    }
   ],
   "source": [
    "len(nuTime)"
   ]
  },
  {
   "cell_type": "code",
   "execution_count": 13,
   "id": "a193a8f4-ab6e-4006-9103-4c8d53d9c423",
   "metadata": {},
   "outputs": [
    {
     "data": {
      "text/plain": [
       "array([6176.1535924 , 3089.75942105, 5395.09146391, ..., 3224.39601671,\n",
       "       1556.41662784, 1106.95984241])"
      ]
     },
     "execution_count": 13,
     "metadata": {},
     "output_type": "execute_result"
    }
   ],
   "source": [
    "x, y, z = xyzInBox( -xlim, xlim, -ylim, ylim, -zlim, zlim, nEvents)\n",
    "# t = np.full(nEvents, 0)\n",
    "rng = np.random.default_rng()\n",
    "t = rejectSampling(nuTime, 0., 15000., nEvents)\n",
    "t"
   ]
  },
  {
   "cell_type": "code",
   "execution_count": 14,
   "id": "63d094d7-f01e-459f-9f88-86913f6eb771",
   "metadata": {},
   "outputs": [],
   "source": [
    "events = readHepevt(infile, firstEvtNo)\n",
    "\n",
    "updatedEvents = assignXYZT(events, x, y, z, t, firstEvtNo)\n",
    "writeHepevt(updatedEvents, outfile)"
   ]
  },
  {
   "cell_type": "markdown",
   "id": "8ea7fc79",
   "metadata": {},
   "source": [
    "### Validation"
   ]
  },
  {
   "cell_type": "code",
   "execution_count": 15,
   "id": "2e016a97",
   "metadata": {},
   "outputs": [],
   "source": [
    "import matplotlib.pyplot as plt"
   ]
  },
  {
   "cell_type": "code",
   "execution_count": 16,
   "id": "d8f8b28a",
   "metadata": {},
   "outputs": [],
   "source": [
    "t_bins = np.linspace(0., 15000., 1501)"
   ]
  },
  {
   "cell_type": "code",
   "execution_count": 19,
   "id": "1dac279c",
   "metadata": {},
   "outputs": [
    {
     "data": {
      "text/plain": [
       "10000"
      ]
     },
     "execution_count": 19,
     "metadata": {},
     "output_type": "execute_result"
    }
   ],
   "source": [
    "len(t)"
   ]
  },
  {
   "cell_type": "code",
   "execution_count": null,
   "id": "3970bea2",
   "metadata": {},
   "outputs": [
    {
     "data": {
      "image/png": "[encoded data removed]",
      "text/plain": [
       "<Figure size 800x600 with 1 Axes>"
      ]
     },
     "metadata": {},
     "output_type": "display_data"
    }
   ],
   "source": [
    "fig, ax = plt.subplots( figsize = (8, 6) )  \n",
    "\n",
    "ax.hist(t, bins = np.linspace(0, 15000, 1501), histtype = 'step', lw = 2, label = 'Simulated time')\n",
    "ax.bar(t_bins[:-1], nuTime*nEvents/nuTime.sum(), width = np.diff(t_bins), align = \"edge\", \n",
    "       color = 'powderblue', label = 'Reference time')\n",
    "ax.set_xlabel( 'Time [ns]', fontsize = 16 )\n",
    "ax.tick_params(axis = 'x', labelsize = 16)\n",
    "ax.tick_params(axis = 'y', labelsize = 16)\n",
    "ax.set_xlim( [0, 15000])\n",
    "ax.semilogy()\n",
    "ax.grid(':')\n",
    "ax.legend( fontsize = 16)\n",
    "fig.savefig('TimeSimFull.pdf')"
   ]
  },
  {
   "cell_type": "markdown",
   "id": "adb757f2",
   "metadata": {},
   "source": [
    "## Dirt\n",
    "\n",
    "### Generation"
   ]
  },
  {
   "cell_type": "code",
   "execution_count": 10,
   "id": "799d19bf-7c7f-4b53-92ac-8e7d638893c9",
   "metadata": {},
   "outputs": [],
   "source": [
    "infile = '/Users/yuntse/data/coherent/SNeNDSens/NueArCCdirt/marley/nueArCC_sns_yDir_01.hepevt'\n",
    "outfile = '/Users/yuntse/data/coherent/SNeNDSens/NueArCCdirt/marley_xyzt/nueArCC_sns_yDir_01.hepevt'\n",
    "\n",
    "rOutlim = 46\n",
    "zOutlim = 60\n",
    "nEvents = 10000\n",
    "firstEvtNo = 10000"
   ]
  },
  {
   "cell_type": "code",
   "execution_count": 11,
   "id": "424e46b7-d9ef-4d1e-8d24-fcaacfe5f6fc",
   "metadata": {},
   "outputs": [
    {
     "data": {
      "text/plain": [
       "array([15.49217   , -9.97433519,  1.92872623, ...,  7.31668266,\n",
       "       43.29825309, 27.7597993 ])"
      ]
     },
     "execution_count": 11,
     "metadata": {},
     "output_type": "execute_result"
    }
   ],
   "source": [
    "x, y, z = xyzDirt( rOutlim, -zOutlim, zOutlim, xlim, ylim, zlim, nEvents)\n",
    "t = np.full(nEvents, 0)\n",
    "x"
   ]
  },
  {
   "cell_type": "code",
   "execution_count": 12,
   "id": "1a34074e-44b2-456b-9f70-9ceff9f94e65",
   "metadata": {},
   "outputs": [],
   "source": [
    "events = readHepevt(infile, firstEvtNo)\n",
    "\n",
    "updatedEvents = assignXYZT(events, x, y, z, t, firstEvtNo)\n",
    "writeHepevt(updatedEvents, outfile)"
   ]
  },
  {
   "cell_type": "code",
   "execution_count": 19,
   "id": "81475aca-0c81-4b20-b171-97b01ad4e2a4",
   "metadata": {},
   "outputs": [
    {
     "data": {
      "text/plain": [
       "(5000, 5000, 5000, 5000, 10000)"
      ]
     },
     "execution_count": 19,
     "metadata": {},
     "output_type": "execute_result"
    }
   ],
   "source": [
    "len(t), len(x), len(y), len(z), len(events)"
   ]
  },
  {
   "cell_type": "code",
   "execution_count": 15,
   "id": "408e9b1e-370b-4242-8ff2-66f6b7441172",
   "metadata": {},
   "outputs": [
    {
     "data": {
      "text/plain": [
       "True"
      ]
     },
     "execution_count": 15,
     "metadata": {},
     "output_type": "execute_result"
    }
   ],
   "source": [
    "np.all( (np.sqrt(x**2+y**2) <= rOutlim) & (np.abs(z) <= zOutlim) & ~(((np.abs(x) < xlim) & (np.abs(y) < ylim) & (np.abs(z) < zlim))) )"
   ]
  },
  {
   "cell_type": "code",
   "execution_count": null,
   "id": "b16206db-e71c-49ae-957e-9a0ea475bda6",
   "metadata": {},
   "outputs": [],
   "source": []
  }
 ],
 "metadata": {
  "kernelspec": {
   "display_name": "base",
   "language": "python",
   "name": "python3"
  },
  "language_info": {
   "codemirror_mode": {
    "name": "ipython",
    "version": 3
   },
   "file_extension": ".py",
   "mimetype": "text/x-python",
   "name": "python",
   "nbconvert_exporter": "python",
   "pygments_lexer": "ipython3",
   "version": "3.12.7"
  }
 },
 "nbformat": 4,
 "nbformat_minor": 5
}
