{
 "cells": [
  {
   "cell_type": "code",
   "execution_count": 1,
   "id": "ea226c51-2085-4255-9d4d-e5a2b35219d3",
   "metadata": {},
   "outputs": [],
   "source": [
    "import h5py"
   ]
  },
  {
   "cell_type": "code",
   "execution_count": 2,
   "id": "4eba207e-481a-41d6-a023-f06eb98006b8",
   "metadata": {},
   "outputs": [],
   "source": [
    "fName = '/Users/yuntse/data/coherent/SNeNDSens/g4/NueArCC/nueArCC_sns_yDir_g4_0000.h5'"
   ]
  },
  {
   "cell_type": "code",
   "execution_count": 4,
   "id": "1fa9900b-ff84-49db-8fd5-2c16d1f3dc1a",
   "metadata": {},
   "outputs": [
    {
     "name": "stdout",
     "output_type": "stream",
     "text": [
      "['segments', 'trajectories', 'vertices']\n",
      "{'names': ['event_id', 'vertex_id', 'file_vertex_id', 'traj_id', 'file_traj_id', 'parent_id', 'primary', 'E_start', 'pxyz_start', 'xyz_start', 't_start', 'E_end', 'pxyz_end', 'xyz_end', 't_end', 'pdg_id', 'start_process', 'start_subprocess', 'end_process', 'end_subprocess', 'dist_travel'], 'formats': ['<u4', '<u8', '<u8', '<i4', '<u4', '<i4', '?', '<f4', ('<f4', (3,)), ('<f4', (3,)), '<f8', '<f4', ('<f4', (3,)), ('<f4', (3,)), '<f8', '<i4', '<i4', '<i4', '<i4', '<i4', '<f4'], 'offsets': [0, 8, 16, 24, 28, 32, 36, 40, 44, 56, 72, 80, 84, 96, 112, 120, 124, 128, 132, 136, 140], 'itemsize': 144}\n",
      "[5.1099890e-01 7.2586834e-01 2.6811389e-09 ... 5.1099890e-01 5.1099890e-01\n",
      " 5.1099890e-01]\n"
     ]
    }
   ],
   "source": [
    "with h5py.File(fName, 'r') as f:\n",
    "    # Print all top-level groups/datasets\n",
    "    print(list(f.keys()))\n",
    "    data = f['trajectories']\n",
    "    print(data.dtype)\n",
    "    print(data['E_end'])"
   ]
  },
  {
   "cell_type": "code",
   "execution_count": null,
   "id": "9b129c7b-a10f-4318-a0c9-9930a0229eaf",
   "metadata": {},
   "outputs": [],
   "source": []
  }
 ],
 "metadata": {
  "kernelspec": {
   "display_name": "Python 3 (ipykernel)",
   "language": "python",
   "name": "python3"
  },
  "language_info": {
   "codemirror_mode": {
    "name": "ipython",
    "version": 3
   },
   "file_extension": ".py",
   "mimetype": "text/x-python",
   "name": "python",
   "nbconvert_exporter": "python",
   "pygments_lexer": "ipython3",
   "version": "3.12.7"
  }
 },
 "nbformat": 4,
 "nbformat_minor": 5
}
